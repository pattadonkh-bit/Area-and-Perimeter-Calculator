{
  "cells": [
    {
      "cell_type": "markdown",
      "metadata": {
        "id": "view-in-github",
        "colab_type": "text"
      },
      "source": [
        "<a href=\"https://colab.research.google.com/github/pattadonkh-bit/Area-and-Perimeter-Calculator/blob/main/Area_and_Perimeter_Calculator_sprint_1.ipynb\" target=\"_parent\"><img src=\"https://colab.research.google.com/assets/colab-badge.svg\" alt=\"Open In Colab\"/></a>"
      ]
    },
    {
      "cell_type": "code",
      "source": [
        "import math\n",
        "\n",
        "# Rectangle: area and perimeter\n",
        "def rectangle_area(length, width):\n",
        "    return length * width\n",
        "\n",
        "def rectangle_perimeter(length, width):\n",
        "    return 2 * (length + width)\n",
        "\n",
        "# Circle: area and circumference\n",
        "def circle_area(radius):\n",
        "    return math.pi * radius * radius\n",
        "\n",
        "def circle_perimeter(radius):\n",
        "    return 2 * math.pi * radius\n",
        "\n",
        "if __name__ == \"__main__\":\n",
        "    print(\"Area & Perimeter Calculator (Sprint 1 Prototype)\")\n",
        "\n",
        "    while True:\n",
        "        print(\"\\nChoose shape: 1) Rectangle  2) Circle  3) Exit\")\n",
        "        choice = input(\"Enter choice (1/2/3): \")\n",
        "\n",
        "        if choice == \"1\":\n",
        "            l = float(input(\"Enter length: \"))\n",
        "            w = float(input(\"Enter width: \"))\n",
        "            print(f\"Rectangle Area = {rectangle_area(l, w):.2f}\")\n",
        "            print(f\"Rectangle Perimeter = {rectangle_perimeter(l, w):.2f}\")\n",
        "\n",
        "        elif choice == \"2\":\n",
        "            r = float(input(\"Enter radius: \"))\n",
        "            print(f\"Circle Area = {circle_area(r):.2f}\")\n",
        "            print(f\"Circle Circumference = {circle_perimeter(r):.2f}\")\n",
        "\n",
        "        elif choice == \"3\" or choice.lower() == \"exit\":\n",
        "            print(\"Exiting the calculator.\")\n",
        "            break\n",
        "\n",
        "        else:\n",
        "            print(\"Invalid choice. Please try again.\")"
      ],
      "metadata": {
        "id": "q1SCL15UjO9n"
      },
      "execution_count": null,
      "outputs": []
    }
  ],
  "metadata": {
    "colab": {
      "toc_visible": true,
      "provenance": [],
      "include_colab_link": true
    },
    "kernelspec": {
      "display_name": "Python 3",
      "name": "python3"
    }
  },
  "nbformat": 4,
  "nbformat_minor": 0
}