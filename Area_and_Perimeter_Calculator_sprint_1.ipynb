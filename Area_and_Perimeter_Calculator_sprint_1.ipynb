{
  "cells": [
    {
      "cell_type": "markdown",
      "metadata": {
        "id": "view-in-github",
        "colab_type": "text"
      },
      "source": [
        "<a href=\"https://colab.research.google.com/github/pattadonkh-bit/Area-and-Perimeter-Calculator/blob/main/Area_and_Perimeter_Calculator_sprint_1.ipynb\" target=\"_parent\"><img src=\"https://colab.research.google.com/assets/colab-badge.svg\" alt=\"Open In Colab\"/></a>"
      ]
    },
    {
      "cell_type": "code",
      "source": [
        "import math\n",
        "\n",
        "# Rectangle: area and perimeter\n",
        "def rectangle_area(length, width):\n",
        "    return length * width\n",
        "\n",
        "def rectangle_perimeter(length, width):\n",
        "    return 2 * (length + width)\n",
        "\n",
        "# Circle: area and circumference\n",
        "def circle_area(radius):\n",
        "    return math.pi * radius * radius\n",
        "\n",
        "def circle_perimeter(radius):\n",
        "    return 2 * math.pi * radius\n",
        "\n",
        "if __name__ == \"__main__\":\n",
        "    print(\"Area & Perimeter Calculator (Sprint 1 Prototype)\")\n",
        "\n",
        "    print(\"\\nChoose shape: 1) Rectangle  2) Circle\")\n",
        "    choice = input(\"Enter choice (1/2): \")\n",
        "\n",
        "    if choice == \"1\":\n",
        "        l = float(input(\"Enter length: \"))\n",
        "        w = float(input(\"Enter width: \"))\n",
        "        print(f\"Rectangle Area = {rectangle_area(l, w):.2f}\")\n",
        "        print(f\"Rectangle Perimeter = {rectangle_perimeter(l, w):.2f}\")\n",
        "\n",
        "    elif choice == \"2\":\n",
        "        r = float(input(\"Enter radius: \"))\n",
        "        print(f\"Circle Area = {circle_area(r):.2f}\")\n",
        "        print(f\"Circle Circumference = {circle_perimeter(r):.2f}\")\n",
        "\n",
        "    else:\n",
        "        print(\"Invalid choice. Please try again.\")\n"
      ],
      "metadata": {
        "id": "q1SCL15UjO9n"
      },
      "execution_count": null,
      "outputs": []
    },
    {
      "cell_type": "markdown",
      "source": [
        "ผลการทดสอบ (Simulation Output)\n",
        "✅ Test Case 1: กดเลข 1 (Rectangle)\n",
        "\n",
        "Input: 1 → length=5, width=3\n",
        "\n",
        "Expectation: โปรแกรมคำนวณพื้นที่ = 15.00 และเส้นรอบรูป = 16.00\n",
        "\n",
        "Observation: ได้ผลลัพธ์ตรงตามคาด\n",
        "\n",
        "Result: ✅ Passed\n",
        "\n",
        "Rectangle Area = 15.00\n",
        "Rectangle Perimeter = 16.00\n",
        "\n",
        "✅ Test Case 2: กดเลข 2 (Circle)\n",
        "\n",
        "Input: 2 → radius=4\n",
        "\n",
        "Expectation: พื้นที่วงกลม = 50.27 และเส้นรอบวง = 25.13\n",
        "\n",
        "Observation: ได้ผลลัพธ์ตรงตามคาด\n",
        "\n",
        "Result: ✅ Passed\n",
        "\n",
        "Circle Area = 50.27\n",
        "Circle Circumference = 25.13\n",
        "\n",
        "\n",
        "❌ Test Case 3: กดเลข 9 (Invalid)\n",
        "\n",
        "Input: 9\n",
        "\n",
        "Expectation: โปรแกรมควรแจ้งว่า Invalid command\n",
        "\n",
        "Observation: โปรแกรมแสดง \"Invalid choice. Please try again.\"\n",
        "\n",
        "Result: ✅ Passed (พฤติกรรมถูกต้อง)\n",
        "\n",
        "Invalid choice. Please try again.\n",
        "\n",
        "\n",
        "📌 สรุป: ทุก Test Case ผ่านตาม Requirement\n",
        "\n",
        "รองรับ 1 2\n",
        "\n",
        "แสดงข้อความ Error กรณี Invalid Input"
      ],
      "metadata": {
        "id": "3Xb6T0KUzbol"
      }
    }
  ],
  "metadata": {
    "colab": {
      "provenance": [],
      "include_colab_link": true
    },
    "kernelspec": {
      "display_name": "Python 3",
      "name": "python3"
    }
  },
  "nbformat": 4,
  "nbformat_minor": 0
}