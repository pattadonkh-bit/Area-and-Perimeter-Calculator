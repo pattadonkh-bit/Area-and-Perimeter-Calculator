{
  "cells": [
    {
      "cell_type": "markdown",
      "metadata": {
        "id": "view-in-github",
        "colab_type": "text"
      },
      "source": [
        "<a href=\"https://colab.research.google.com/github/pattadonkh-bit/Area-and-Perimeter-Calculator/blob/main/Area_and_Perimeter_Calculator_sprint_2.ipynb\" target=\"_parent\"><img src=\"https://colab.research.google.com/assets/colab-badge.svg\" alt=\"Open In Colab\"/></a>"
      ]
    },
    {
      "cell_type": "markdown",
      "source": [
        "👥 Group Members & Duties\n",
        "\n",
        "🔹 โบ๊ท (Planner + Debugger)\n",
        "\n",
        "วางแผน (Planning)\n",
        "\n",
        "-กำหนดว่าจะเพิ่มรูปทรงอะไรบ้าง (Square, Triangle)\n",
        "\n",
        "-ออกแบบเมนูการเลือก (1–5 พร้อม Exit)\n",
        "\n",
        "-คิด flow การใช้งาน (วนลูป, กรอกข้อมูล, กลับเมนู)\n",
        "\n",
        "ดีบัก (Debugging)\n",
        "\n",
        "-ตรวจสอบว่าค่าที่คำนวณถูกต้องหรือไม่ (เทียบกับสูตรคณิต)\n",
        "\n",
        "-ตรวจสอบ input validation (ต้องไม่ล่มถ้าผู้ใช้กรอกผิด)\n",
        "\n",
        "-ช่วยปรับปรุงความเข้าใจของผู้ใช้ เช่น เพิ่มข้อความแนะนำ, error message\n",
        "\n",
        "🔹 โอ่ง (Coder)\n",
        "\n",
        "เขียนโค้ด (Coding)\n",
        "\n",
        "-เพิ่มฟังก์ชันใหม่ → square_area, square_perimeter, triangle_area, triangle_perimeter\n",
        "\n",
        "-แก้ไขเมนูหลัก (เพิ่มตัวเลือก 3, 4, 5)\n",
        "\n",
        "-แก้ input handling → ใช้ while True และ get_number()\n",
        "\n",
        "-ทำให้โปรแกรมวนลูปได้ (ผู้ใช้เลือกหลายครั้งจนกว่าจะกด Exit)\n",
        "\n",
        "-ปรับโครงสร้าง (Improvement)\n",
        "\n",
        "-ทำให้โค้ดอ่านง่ายและเป็นมาตรฐาน\n",
        "\n",
        "🎯 Deliverables (สิ่งที่ต้องเสร็จใน Week 2)\n",
        "\n",
        "-โปรแกรมรองรับ 4 รูปทรง (Rectangle, Circle, Square, Triangle)\n",
        "\n",
        "-มีเมนู 1–5 (เลือก + ออกจากโปรแกรมได้)\n",
        "\n",
        "-Input validation (ป้อนผิดจะถามใหม่)\n",
        "\n",
        "-โค้ดสะอาด + อ่านง่าย (แบ่งฟังก์ชันชัดเจน)\n",
        "\n",
        "-ผ่านการทดสอบจากโบ๊ท (Debugger)"
      ],
      "metadata": {
        "id": "bb8Iegyccn5Z"
      }
    },
    {
      "cell_type": "code",
      "source": [
        "import math\n",
        "\n",
        "\n",
        "def rectangle_area(length, width):\n",
        "    return length * width\n",
        "\n",
        "def rectangle_perimeter(length, width):\n",
        "    return 2 * (length + width)\n",
        "\n",
        "\n",
        "def circle_area(radius):\n",
        "    return math.pi * radius ** 2\n",
        "\n",
        "def circle_perimeter(radius):\n",
        "    return 2 * math.pi * radius\n",
        "\n",
        "\n",
        "def square_area(side):\n",
        "    return side ** 2\n",
        "\n",
        "def square_perimeter(side):\n",
        "    return 4 * side\n",
        "\n",
        "\n",
        "def triangle_area(base, height):\n",
        "    return 0.5 * base * height\n",
        "\n",
        "def triangle_perimeter(a, b, c):\n",
        "    return a + b + c\n",
        "\n",
        "def get_number(prompt):\n",
        "    while True:\n",
        "        value = input(prompt)\n",
        "        if value.replace('.', '', 1).isdigit():\n",
        "            return float(value)\n",
        "        else:\n",
        "            print(\"Invalid input. Please enter a number.\")\n",
        "\n",
        "if __name__ == \"__main__\":\n",
        "    print(\"Area & Perimeter Calculator (Sprint 2)\")\n",
        "\n",
        "    while True:\n",
        "        print(\"\\nChoose shape:\")\n",
        "        print(\"1) Rectangle  2) Circle  3) Square  4) Triangle  5) Exit\")\n",
        "        choice = input(\"Enter choice (1-5): \")\n",
        "\n",
        "        if choice == \"1\":\n",
        "            l = get_number(\"Enter length: \")\n",
        "            w = get_number(\"Enter width: \")\n",
        "            print(f\"Rectangle Area = {rectangle_area(l, w):.2f}\")\n",
        "            print(f\"Rectangle Perimeter = {rectangle_perimeter(l, w):.2f}\")\n",
        "\n",
        "        elif choice == \"2\":\n",
        "            r = get_number(\"Enter radius: \")\n",
        "            print(f\"Circle Area = {circle_area(r):.2f}\")\n",
        "            print(f\"Circle Circumference = {circle_perimeter(r):.2f}\")\n",
        "\n",
        "        elif choice == \"3\":\n",
        "            s = get_number(\"Enter side length: \")\n",
        "            print(f\"Square Area = {square_area(s):.2f}\")\n",
        "            print(f\"Square Perimeter = {square_perimeter(s):.2f}\")\n",
        "\n",
        "        elif choice == \"4\":\n",
        "            a = get_number(\"Enter side a: \")\n",
        "            b = get_number(\"Enter side b: \")\n",
        "            c = get_number(\"Enter side c: \")\n",
        "            h = get_number(\"Enter height (for area): \")\n",
        "            print(f\"Triangle Area = {triangle_area(a, h):.2f}\")\n",
        "            print(f\"Triangle Perimeter = {triangle_perimeter(a, b, c):.2f}\")\n",
        "\n",
        "        elif choice == \"5\":\n",
        "            print(\"Exiting program. Goodbye!\")\n",
        "            break\n",
        "\n",
        "        else:\n",
        "            print(\"Invalid choice. Please select 1-5.\")"
      ],
      "metadata": {
        "id": "QQ4ejXiZbm_D",
        "outputId": "6db8bfb7-3919-4a2e-d2d7-ec979c31f1a1",
        "colab": {
          "base_uri": "https://localhost:8080/",
          "height": 478
        }
      },
      "execution_count": null,
      "outputs": [
        {
          "output_type": "stream",
          "name": "stdout",
          "text": [
            "Area & Perimeter Calculator (Sprint 2)\n",
            "\n",
            "Choose shape:\n",
            "1) Rectangle  2) Circle  3) Square  4) Triangle  5) Exit\n",
            "Enter choice (1-5): 3\n",
            "Enter side length: -1\n",
            "Invalid input. Please enter a number.\n"
          ]
        },
        {
          "output_type": "error",
          "ename": "KeyboardInterrupt",
          "evalue": "Interrupted by user",
          "traceback": [
            "\u001b[0;31m---------------------------------------------------------------------------\u001b[0m",
            "\u001b[0;31mKeyboardInterrupt\u001b[0m                         Traceback (most recent call last)",
            "\u001b[0;32m/tmp/ipython-input-3565047626.py\u001b[0m in \u001b[0;36m<cell line: 0>\u001b[0;34m()\u001b[0m\n\u001b[1;32m     57\u001b[0m \u001b[0;34m\u001b[0m\u001b[0m\n\u001b[1;32m     58\u001b[0m         \u001b[0;32melif\u001b[0m \u001b[0mchoice\u001b[0m \u001b[0;34m==\u001b[0m \u001b[0;34m\"3\"\u001b[0m\u001b[0;34m:\u001b[0m\u001b[0;34m\u001b[0m\u001b[0;34m\u001b[0m\u001b[0m\n\u001b[0;32m---> 59\u001b[0;31m             \u001b[0ms\u001b[0m \u001b[0;34m=\u001b[0m \u001b[0mget_number\u001b[0m\u001b[0;34m(\u001b[0m\u001b[0;34m\"Enter side length: \"\u001b[0m\u001b[0;34m)\u001b[0m\u001b[0;34m\u001b[0m\u001b[0;34m\u001b[0m\u001b[0m\n\u001b[0m\u001b[1;32m     60\u001b[0m             \u001b[0mprint\u001b[0m\u001b[0;34m(\u001b[0m\u001b[0;34mf\"Square Area = {square_area(s):.2f}\"\u001b[0m\u001b[0;34m)\u001b[0m\u001b[0;34m\u001b[0m\u001b[0;34m\u001b[0m\u001b[0m\n\u001b[1;32m     61\u001b[0m             \u001b[0mprint\u001b[0m\u001b[0;34m(\u001b[0m\u001b[0;34mf\"Square Perimeter = {square_perimeter(s):.2f}\"\u001b[0m\u001b[0;34m)\u001b[0m\u001b[0;34m\u001b[0m\u001b[0;34m\u001b[0m\u001b[0m\n",
            "\u001b[0;32m/tmp/ipython-input-3565047626.py\u001b[0m in \u001b[0;36mget_number\u001b[0;34m(prompt)\u001b[0m\n\u001b[1;32m     31\u001b[0m \u001b[0;32mdef\u001b[0m \u001b[0mget_number\u001b[0m\u001b[0;34m(\u001b[0m\u001b[0mprompt\u001b[0m\u001b[0;34m)\u001b[0m\u001b[0;34m:\u001b[0m\u001b[0;34m\u001b[0m\u001b[0;34m\u001b[0m\u001b[0m\n\u001b[1;32m     32\u001b[0m     \u001b[0;32mwhile\u001b[0m \u001b[0;32mTrue\u001b[0m\u001b[0;34m:\u001b[0m\u001b[0;34m\u001b[0m\u001b[0;34m\u001b[0m\u001b[0m\n\u001b[0;32m---> 33\u001b[0;31m         \u001b[0mvalue\u001b[0m \u001b[0;34m=\u001b[0m \u001b[0minput\u001b[0m\u001b[0;34m(\u001b[0m\u001b[0mprompt\u001b[0m\u001b[0;34m)\u001b[0m\u001b[0;34m\u001b[0m\u001b[0;34m\u001b[0m\u001b[0m\n\u001b[0m\u001b[1;32m     34\u001b[0m         \u001b[0;32mif\u001b[0m \u001b[0mvalue\u001b[0m\u001b[0;34m.\u001b[0m\u001b[0mreplace\u001b[0m\u001b[0;34m(\u001b[0m\u001b[0;34m'.'\u001b[0m\u001b[0;34m,\u001b[0m \u001b[0;34m''\u001b[0m\u001b[0;34m,\u001b[0m \u001b[0;36m1\u001b[0m\u001b[0;34m)\u001b[0m\u001b[0;34m.\u001b[0m\u001b[0misdigit\u001b[0m\u001b[0;34m(\u001b[0m\u001b[0;34m)\u001b[0m\u001b[0;34m:\u001b[0m\u001b[0;34m\u001b[0m\u001b[0;34m\u001b[0m\u001b[0m\n\u001b[1;32m     35\u001b[0m             \u001b[0;32mreturn\u001b[0m \u001b[0mfloat\u001b[0m\u001b[0;34m(\u001b[0m\u001b[0mvalue\u001b[0m\u001b[0;34m)\u001b[0m\u001b[0;34m\u001b[0m\u001b[0;34m\u001b[0m\u001b[0m\n",
            "\u001b[0;32m/usr/local/lib/python3.12/dist-packages/ipykernel/kernelbase.py\u001b[0m in \u001b[0;36mraw_input\u001b[0;34m(self, prompt)\u001b[0m\n\u001b[1;32m   1175\u001b[0m                 \u001b[0;34m\"raw_input was called, but this frontend does not support input requests.\"\u001b[0m\u001b[0;34m\u001b[0m\u001b[0;34m\u001b[0m\u001b[0m\n\u001b[1;32m   1176\u001b[0m             )\n\u001b[0;32m-> 1177\u001b[0;31m         return self._input_request(\n\u001b[0m\u001b[1;32m   1178\u001b[0m             \u001b[0mstr\u001b[0m\u001b[0;34m(\u001b[0m\u001b[0mprompt\u001b[0m\u001b[0;34m)\u001b[0m\u001b[0;34m,\u001b[0m\u001b[0;34m\u001b[0m\u001b[0;34m\u001b[0m\u001b[0m\n\u001b[1;32m   1179\u001b[0m             \u001b[0mself\u001b[0m\u001b[0;34m.\u001b[0m\u001b[0m_parent_ident\u001b[0m\u001b[0;34m[\u001b[0m\u001b[0;34m\"shell\"\u001b[0m\u001b[0;34m]\u001b[0m\u001b[0;34m,\u001b[0m\u001b[0;34m\u001b[0m\u001b[0;34m\u001b[0m\u001b[0m\n",
            "\u001b[0;32m/usr/local/lib/python3.12/dist-packages/ipykernel/kernelbase.py\u001b[0m in \u001b[0;36m_input_request\u001b[0;34m(self, prompt, ident, parent, password)\u001b[0m\n\u001b[1;32m   1217\u001b[0m             \u001b[0;32mexcept\u001b[0m \u001b[0mKeyboardInterrupt\u001b[0m\u001b[0;34m:\u001b[0m\u001b[0;34m\u001b[0m\u001b[0;34m\u001b[0m\u001b[0m\n\u001b[1;32m   1218\u001b[0m                 \u001b[0;31m# re-raise KeyboardInterrupt, to truncate traceback\u001b[0m\u001b[0;34m\u001b[0m\u001b[0;34m\u001b[0m\u001b[0m\n\u001b[0;32m-> 1219\u001b[0;31m                 \u001b[0;32mraise\u001b[0m \u001b[0mKeyboardInterrupt\u001b[0m\u001b[0;34m(\u001b[0m\u001b[0;34m\"Interrupted by user\"\u001b[0m\u001b[0;34m)\u001b[0m \u001b[0;32mfrom\u001b[0m \u001b[0;32mNone\u001b[0m\u001b[0;34m\u001b[0m\u001b[0;34m\u001b[0m\u001b[0m\n\u001b[0m\u001b[1;32m   1220\u001b[0m             \u001b[0;32mexcept\u001b[0m \u001b[0mException\u001b[0m\u001b[0;34m:\u001b[0m\u001b[0;34m\u001b[0m\u001b[0;34m\u001b[0m\u001b[0m\n\u001b[1;32m   1221\u001b[0m                 \u001b[0mself\u001b[0m\u001b[0;34m.\u001b[0m\u001b[0mlog\u001b[0m\u001b[0;34m.\u001b[0m\u001b[0mwarning\u001b[0m\u001b[0;34m(\u001b[0m\u001b[0;34m\"Invalid Message:\"\u001b[0m\u001b[0;34m,\u001b[0m \u001b[0mexc_info\u001b[0m\u001b[0;34m=\u001b[0m\u001b[0;32mTrue\u001b[0m\u001b[0;34m)\u001b[0m\u001b[0;34m\u001b[0m\u001b[0;34m\u001b[0m\u001b[0m\n",
            "\u001b[0;31mKeyboardInterrupt\u001b[0m: Interrupted by user"
          ]
        }
      ]
    }
  ],
  "metadata": {
    "colab": {
      "toc_visible": true,
      "provenance": [],
      "include_colab_link": true
    },
    "kernelspec": {
      "display_name": "Python 3",
      "name": "python3"
    }
  },
  "nbformat": 4,
  "nbformat_minor": 0
}